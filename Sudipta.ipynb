{
 "cells": [
  {
   "cell_type": "code",
   "execution_count": 1,
   "metadata": {},
   "outputs": [
    {
     "name": "stdout",
     "output_type": "stream",
     "text": [
      "100\n",
      "108\n",
      "112\n",
      "115\n",
      "150\n",
      "178\n",
      "143\n",
      "132\n",
      "190\n",
      "235\n",
      "253\n",
      "298\n",
      "328\n",
      "390\n",
      "257\n",
      "288\n",
      "393\n",
      "425\n",
      "458\n",
      "450\n",
      "473\n",
      "333\n",
      "452\n",
      "490\n",
      "495\n",
      "488\n",
      "543\n",
      "532\n",
      "590\n",
      "605\n"
     ]
    }
   ],
   "source": [
    "from array import*\n",
    "arrayScore = array('i',[100,108,112,115,150,178,143,132,190,235,253,298,328,390,257,288,393,425,458,450,473,333,452,490,495,488,543,532,590,605])\n",
    "for x in arrayScore:\n",
    "    print(x)\n"
   ]
  },
  {
   "cell_type": "code",
   "execution_count": 14,
   "metadata": {},
   "outputs": [
    {
     "name": "stdout",
     "output_type": "stream",
     "text": [
      "[ 1  2  3  4  5  6  7  8  9 10 11 12 13 14 15 16 17 18 19 20 21 22 23 24\n",
      " 25 26 27 28 29 30]\n"
     ]
    }
   ],
   "source": [
    "import numpy as np\n",
    "days = np.arange(1,31)\n",
    "print(days)"
   ]
  },
  {
   "cell_type": "code",
   "execution_count": 19,
   "metadata": {},
   "outputs": [
    {
     "data": {
      "image/png": "[encoded data removed]",
      "text/plain": [
       "<Figure size 432x288 with 1 Axes>"
      ]
     },
     "metadata": {
      "needs_background": "light"
     },
     "output_type": "display_data"
    }
   ],
   "source": [
    "import matplotlib.pyplot as plt\n",
    "import numpy as np\n",
    "y=array('i',[100,108,112,115,150,178,143,132,190,235,253,298,328,390,257,288,393,425,458,450,473,333,452,490,495,488,543,532,590,605])\n",
    "x= np.arange(1,31)\n",
    "plt.xlim(0,30)\n",
    "plt.ylim(100,1000)\n",
    "plt.xlabel('score')\n",
    "plt.ylabel('days')\n",
    "plt.title('dictionary game')\n",
    "plt.plot(x,y)\n",
    "plt.show()"
   ]
  },
  {
   "cell_type": "code",
   "execution_count": 20,
   "metadata": {},
   "outputs": [
    {
     "name": "stdout",
     "output_type": "stream",
     "text": [
      "Score : array('i', [100, 108, 112, 115, 150, 178, 143, 132, 190, 235, 253, 298, 328, 390, 257, 288, 393, 425, 458, 450, 473, 333, 452, 490, 495, 488, 543, 532, 590, 605])\n",
      "mean of Score : 333.46666666666664\n"
     ]
    }
   ],
   "source": [
    "import numpy as np\n",
    "arrayScore = array('i',[100,108,112,115,150,178,143,132,190,235,253,298,328,390,257,288,393,425,458,450,473,333,452,490,495,488,543,532,590,605])\n",
    "print(\"Score :\",arrayScore)\n",
    "print(\"mean of Score :\",np.mean(arrayScore))"
   ]
  },
  {
   "cell_type": "code",
   "execution_count": 21,
   "metadata": {},
   "outputs": [
    {
     "name": "stdout",
     "output_type": "stream",
     "text": [
      "Score : array('i', [100, 108, 112, 115, 150, 178, 143, 132, 190, 235, 253, 298, 328, 390, 257, 288, 393, 425, 458, 450, 473, 333, 452, 490, 495, 488, 543, 532, 590, 605])\n",
      "median of Score : 330.5\n"
     ]
    }
   ],
   "source": [
    "import numpy as np\n",
    "arrayScore = array('i',[100,108,112,115,150,178,143,132,190,235,253,298,328,390,257,288,393,425,458,450,473,333,452,490,495,488,543,532,590,605])\n",
    "print(\"Score :\",arrayScore)\n",
    "print(\"median of Score :\",np.median(arrayScore))"
   ]
  },
  {
   "cell_type": "code",
   "execution_count": 23,
   "metadata": {},
   "outputs": [
    {
     "name": "stdout",
     "output_type": "stream",
     "text": [
      "max element: 605\n",
      "min element: 100\n"
     ]
    }
   ],
   "source": [
    "import numpy as np\n",
    "arrayScore = array('i',[100,108,112,115,150,178,143,132,190,235,253,298,328,390,257,288,393,425,458,450,473,333,452,490,495,488,543,532,590,605])\n",
    "maxElement = np.amax(arrayScore)\n",
    "minElement = np.amin(arrayScore)\n",
    "print('max element:',maxElement)\n",
    "print('min element:',minElement)\n"
   ]
  },
  {
   "cell_type": "code",
   "execution_count": null,
   "metadata": {},
   "outputs": [],
   "source": []
  }
 ],
 "metadata": {
  "kernelspec": {
   "display_name": "Python 3",
   "language": "python",
   "name": "python3"
  },
  "language_info": {
   "codemirror_mode": {
    "name": "ipython",
    "version": 3
   },
   "file_extension": ".py",
   "mimetype": "text/x-python",
   "name": "python",
   "nbconvert_exporter": "python",
   "pygments_lexer": "ipython3",
   "version": "3.7.6"
  }
 },
 "nbformat": 4,
 "nbformat_minor": 4
}
